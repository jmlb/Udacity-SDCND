{
 "cells": [
  {
   "cell_type": "code",
   "execution_count": 1,
   "metadata": {
    "collapsed": false
   },
   "outputs": [],
   "source": [
    "import glob\n",
    "import matplotlib.image as mpimg\n",
    "import numpy as np\n",
    "from skimage.feature import hog\n",
    "import cv2\n",
    "import matplotlib.pyplot as plt\n",
    "from sklearn.svm import LinearSVC\n",
    "from sklearn.preprocessing import StandardScaler\n",
    "from scipy.ndimage.measurements import label\n",
    "import time\n",
    "from sklearn.externals import joblib\n",
    "import pickle\n",
    "from moviepy.editor import VideoFileClip\n",
    "from IPython.display import HTML\n",
    "#from skimage import measure\n",
    "SEED = 42\n",
    "%matplotlib inline"
   ]
  },
  {
   "cell_type": "markdown",
   "metadata": {},
   "source": [
    "## FEATURE EXTRACTOR FUNCTIONS"
   ]
  },
  {
   "cell_type": "code",
   "execution_count": 2,
   "metadata": {
    "collapsed": true
   },
   "outputs": [],
   "source": [
    "def get_hog_features(img, orient, pix_per_cell, cell_per_block, vis=False, feature_vec=True):\n",
    "    '''\n",
    "    Extract HOG image and HOG features of a given image\n",
    "    orient: number of bins for the orientation\n",
    "    pix_per_cell: size of a cell\n",
    "    cell_per_block: nber of cells per block\n",
    "    vis (Boolean) visualize the HOG image\n",
    "    feature_vec (Boolean): return the features as a feature vector\n",
    "    By default, the function uses transform_sqrt (apply power law compression to normalize the image before processing)\n",
    "    '''\n",
    "    if vis == True:\n",
    "        features, hog_image = hog(img, orientations=orient, \n",
    "                                  pixels_per_cell=(pix_per_cell, pix_per_cell),\n",
    "                                  cells_per_block=(cell_per_block, cell_per_block), \n",
    "                                  transform_sqrt=True, \n",
    "                                  visualise=vis, feature_vector=feature_vec)\n",
    "        return features, hog_image\n",
    "    else:      \n",
    "        features = hog(img, orientations=orient, \n",
    "                       pixels_per_cell=(pix_per_cell, pix_per_cell),\n",
    "                       cells_per_block=(cell_per_block, cell_per_block), \n",
    "                       transform_sqrt=True, \n",
    "                       visualise=vis, feature_vector=feature_vec)\n",
    "        return features\n",
    "\n",
    "\n",
    "\n",
    "def bin_spatial(img, size=(32, 32)):\n",
    "    '''\n",
    "    Binned Color Feature\n",
    "    img: original image\n",
    "    size: target size of the image\n",
    "    output: feature vector\n",
    "    '''\n",
    "    features = cv2.resize(img, size).ravel() \n",
    "    return features\n",
    "\n",
    "\n",
    "\n",
    "def color_hist(img, nbins=32, bins_range=(0, 256)):\n",
    "    '''\n",
    "    Color histogram features for each channel of the original image\n",
    "    img: original image\n",
    "    nbins: number of bins of the histogram\n",
    "    output: concatenate feature vector\n",
    "    '''\n",
    "    channel1_hist = np.histogram(img[:,:,0], bins=nbins, range=bins_range)\n",
    "    channel2_hist = np.histogram(img[:,:,1], bins=nbins, range=bins_range)\n",
    "    channel3_hist = np.histogram(img[:,:,2], bins=nbins, range=bins_range)\n",
    "    # Concatenate the histograms into a single feature vector\n",
    "    hist_features = np.concatenate((channel1_hist[0], channel2_hist[0], channel3_hist[0]))\n",
    "    # Return the individual histograms, bin_centers and feature vector\n",
    "    return hist_features\n",
    "\n",
    "\n",
    "def color_cvt(img, cspace):\n",
    "    '''\n",
    "    image conversion to different color space\n",
    "    cspace available : HSV', 'LUV', 'HLS', 'YUV', 'YCrCb'\n",
    "    '''\n",
    "    if cspace in ['HSV', 'LUV', 'HLS', 'YUV', 'YCrCb']:\n",
    "        return cv2.cvtColor(img, eval('cv2.COLOR_RGB2'+cspace))\n",
    "    else:\n",
    "        return np.copy(img)"
   ]
  },
  {
   "cell_type": "markdown",
   "metadata": {},
   "source": [
    "## LOAD SVM CLASSIFIER AND FEATURE SETTINGS"
   ]
  },
  {
   "cell_type": "code",
   "execution_count": 3,
   "metadata": {
    "collapsed": true
   },
   "outputs": [],
   "source": [
    "data_file = 'model_svc.p'\n",
    "with open(data_file, mode='rb') as f:\n",
    "    data = pickle.load(f)\n",
    "    \n",
    "svc = data['svc'] \n",
    "X_scaler = data['X_scaler']\n",
    "color_space = data['color_space']\n",
    "spatial_size = data['spatial_size']\n",
    "hist_bins = data['hist_bins']\n",
    "orient = data['orient']\n",
    "pix_per_cell = data['pix_per_cell']\n",
    "cell_per_block = data ['cell_per_block']\n",
    "hog_channel = data['hog_channel']\n",
    "spatial_feat = data ['spatial_feat']\n",
    "hist_feat = data['hist_feat']\n",
    "hog_feat = data['hog_feat']"
   ]
  },
  {
   "cell_type": "markdown",
   "metadata": {},
   "source": [
    "## SMOOTHING"
   ]
  },
  {
   "cell_type": "code",
   "execution_count": 4,
   "metadata": {
    "collapsed": false
   },
   "outputs": [],
   "source": [
    "class Buffer():\n",
    "    def __init__(self, buffer_sz):\n",
    "        self.buffer_sz = buffer_sz\n",
    "        self.hot_windows = []\n",
    "        self.heat_mframe = []\n",
    "        self.hotwindows_mframe = []\n",
    "        self.nwindow_mframe = []\n",
    "        \n",
    "    def add_hotwindows(self, new_val):\n",
    "        self.hot_windows.append(new_val)\n",
    "    \n",
    "    def update_hotwindows_historic(self, new_val):\n",
    "        self.hotwindows_mframe.extend(new_val)\n",
    "        self.nwindow_mframe.append(len(new_val))\n",
    "        if len(self.nwindow_mframe) > self.buffer_sz: #found some windows in this single frame\n",
    "            self.hotwindows_mframe = self.hotwindows_mframe[self.nwindow_mframe[0]:]\n",
    "            self.nwindow_mframe = self.nwindow_mframe[-self.buffer_sz:]\n",
    "    \n",
    "    def update_heat_historic(self, new_heat):\n",
    "        self.heat_mframe.append(new_heat)\n",
    "        if len(self.heat_mframe) > self.buffer_sz: #found some windows in this single frame\n",
    "            self.heat_mframe = self.heat_mframe[-self.buffer_sz:]\n",
    "\n",
    "buffer = Buffer(buffer_sz = 40)"
   ]
  },
  {
   "cell_type": "markdown",
   "metadata": {
    "collapsed": true
   },
   "source": [
    "## Define a single function that can extract features using hog sub-sampling and make predictions"
   ]
  },
  {
   "cell_type": "code",
   "execution_count": 5,
   "metadata": {
    "collapsed": true
   },
   "outputs": [],
   "source": [
    "def find_cars(img, ystart, ystop, cells_per_step, scale, svc, X_scaler, cspace, orient, pix_per_cell, \n",
    "              cell_per_block, spatial_feat, spatial_size, hist_feat,  hist_bins):\n",
    "    '''\n",
    "    uses a single HOG feature extraction on the entire image\n",
    "    '''\n",
    "    draw_img = np.copy(img)\n",
    "    #Normalize pixel intensity\n",
    "    img = img.astype(np.float32)/255\n",
    "    \n",
    "    img_tosearch = img[ystart:ystop,700::]\n",
    "    ctrans_tosearch = color_cvt(img_tosearch, cspace=cspace)\n",
    "    if scale != 1:\n",
    "        imshape = ctrans_tosearch.shape\n",
    "        ctrans_tosearch = cv2.resize(ctrans_tosearch, (np.int(imshape[1]/scale), np.int(imshape[0]/scale)))\n",
    "        \n",
    "    ch1 = ctrans_tosearch[:,:,0]\n",
    "    ch2 = ctrans_tosearch[:,:,1]\n",
    "    ch3 = ctrans_tosearch[:,:,2]\n",
    "\n",
    "    # Define blocks and steps as above\n",
    "    nxblocks = (ch1.shape[1] // pix_per_cell)-1\n",
    "    nyblocks = (ch1.shape[0] // pix_per_cell)-1 \n",
    "    nfeat_per_block = orient*cell_per_block**2\n",
    "    # 64 was the orginal sampling rate, with 8 cells and 8 pix per cell\n",
    "    window = 64\n",
    "    nblocks_per_window = (window // pix_per_cell)-1 \n",
    "    #cells_per_step = 2  # Instead of overlap, define how many cells to step\n",
    "    nxsteps = (nxblocks - nblocks_per_window) // cells_per_step\n",
    "    nysteps = (nyblocks - nblocks_per_window) // cells_per_step\n",
    "    \n",
    "    # Compute individual channel HOG features for the entire image\n",
    "    hog1 = get_hog_features(ch1, orient, pix_per_cell, cell_per_block, feature_vec=False)\n",
    "    hog2 = get_hog_features(ch2, orient, pix_per_cell, cell_per_block, feature_vec=False)\n",
    "    hog3 = get_hog_features(ch3, orient, pix_per_cell, cell_per_block, feature_vec=False)\n",
    "    current_hot_windows = []\n",
    "    for xb in range(nxsteps):\n",
    "        for yb in range(nysteps):\n",
    "            ypos = yb*cells_per_step\n",
    "            xpos = xb*cells_per_step\n",
    "            # Extract HOG for this patch\n",
    "            hog_feat1 = hog1[ypos:ypos+nblocks_per_window, xpos:xpos+nblocks_per_window].ravel() \n",
    "            hog_feat2 = hog2[ypos:ypos+nblocks_per_window, xpos:xpos+nblocks_per_window].ravel() \n",
    "            hog_feat3 = hog3[ypos:ypos+nblocks_per_window, xpos:xpos+nblocks_per_window].ravel() \n",
    "            hog_features = np.hstack((hog_feat1, hog_feat2, hog_feat3))\n",
    "\n",
    "            xleft = xpos*pix_per_cell\n",
    "            ytop = ypos*pix_per_cell\n",
    "\n",
    "            # Extract the image patch\n",
    "            subimg = cv2.resize(ctrans_tosearch[ytop:ytop+window, xleft:xleft+window], (64,64))\n",
    "          \n",
    "            # Get color features\n",
    "            if spatial_feat == True:\n",
    "                spatial_features = bin_spatial(subimg, size=spatial_size)\n",
    "            if hist_feat == True:\n",
    "                hist_features = color_hist(subimg, nbins=hist_bins)\n",
    "\n",
    "            # Scale features and make a prediction\n",
    "            if (spatial_feat==True) and (hist_feat==True) and (hog_feat==True):\n",
    "                test_features = X_scaler.transform(np.hstack((spatial_features, hist_features, hog_features)).reshape(1, -1))    \n",
    "            elif (spatial_feat==True) and (hist_feat==False) and (hog_feat==True):\n",
    "                test_features = X_scaler.transform(np.hstack((spatial_features, hog_features)).reshape(1, -1))\n",
    "            \n",
    "            test_prediction = svc.predict(test_features)\n",
    "            \n",
    "            if test_prediction == 1:\n",
    "                xbox_left = np.int(xleft*scale) + 700\n",
    "                ytop_draw = np.int(ytop*scale)\n",
    "                win_draw = np.int(window*scale)\n",
    "                buffer.add_hotwindows(( (xbox_left, ytop_draw+ystart),(xbox_left+win_draw,ytop_draw+win_draw+ystart)))\n",
    "                cv2.rectangle(draw_img,(xbox_left, ytop_draw+ystart),(xbox_left+win_draw,ytop_draw+win_draw+ystart),(0,0,255),6) \n",
    "                #plt.imshow(draw_img)\n",
    "                #plt.show()\n",
    "    return draw_img"
   ]
  },
  {
   "cell_type": "markdown",
   "metadata": {
    "collapsed": true
   },
   "source": [
    "## HEATMAP"
   ]
  },
  {
   "cell_type": "code",
   "execution_count": 6,
   "metadata": {
    "collapsed": false
   },
   "outputs": [],
   "source": [
    "def add_heat(heatmap, bbox_list):\n",
    "    '''\n",
    "    iterate through list of positive sliding windows (bbox_list) and add heat \n",
    "    '''\n",
    "    for box in bbox_list:\n",
    "        # Add += 1 for all pixels inside each bbox\n",
    "        # Assuming each \"box\" takes the form ((x1, y1), (x2, y2))\n",
    "        heatmap[box[0][1]:box[1][1], box[0][0]:box[1][0]] += 1\n",
    "\n",
    "    # Return updated heatmap\n",
    "    return heatmap# Iterate through list of bboxes\n",
    "    \n",
    "def apply_threshold(heatmap, threshold):\n",
    "    '''\n",
    "    Apply threshold on heatmap\n",
    "    return thresholded heatmap where all values below threshold are set to 0\n",
    "    '''\n",
    "    # Zero out pixels below the threshold\n",
    "    heatmap[heatmap <= threshold] = 0\n",
    "    # Return thresholded map\n",
    "    return heatmap\n",
    "\n",
    "def draw_labeled_bboxes(img, labels):\n",
    "    # Iterate through all detected cars\n",
    "    for car_number in range(1, labels[1]+1):\n",
    "        # Find pixels with each car_number label value\n",
    "        nonzero = (labels[0] == car_number).nonzero()\n",
    "        # Identify x and y values of those pixels\n",
    "        nonzeroy = np.array(nonzero[0])\n",
    "        nonzerox = np.array(nonzero[1])\n",
    "        # Define a bounding box based on min/max x and y\n",
    "        \n",
    "        bbox = ((np.min(nonzerox), np.min(nonzeroy)), (np.max(nonzerox), np.max(nonzeroy)))\n",
    "        # check car validation ==> too small then ignore\n",
    "        if( abs(bbox[0][0]-bbox[1][0])> 50 and abs(bbox[0][1]-bbox[1][1])> 50) : # too small rect are ingnored\n",
    "            cv2.rectangle(img, bbox[0], bbox[1], (0,0,255), 6)\n",
    "    # Return the image\n",
    "    return img"
   ]
  },
  {
   "cell_type": "markdown",
   "metadata": {},
   "source": [
    "## VEHICLE DETECTOR PIPELINE"
   ]
  },
  {
   "cell_type": "code",
   "execution_count": 7,
   "metadata": {
    "collapsed": true
   },
   "outputs": [],
   "source": [
    "sliding_window = {'scale':[0.6, 0.8, 1.2, 1.6, 2, 2.2], \n",
    "          'ystart':[400, 400, 400, 350, 350, 350], \n",
    "          'ystop': [520, 520, 620, 620, 656, 656], \n",
    "          'cells_per_step': [3, 3, 1, 1, 1, 1]}\n",
    "\n",
    "\n",
    "def pipeline(image):\n",
    "    '''\n",
    "    pipeline takes an image and returns an image\n",
    "    '''\n",
    "    #initialize for heatmap of current frame\n",
    "    heat_sframe = np.zeros_like(image[:,:,0]).astype(np.float)\n",
    "    #initialize hot_windows recorder\n",
    "    buffer.hot_windows = []\n",
    "    threshold = 40\n",
    "        \n",
    "    for idx, scale in enumerate(sliding_window['scale']):\n",
    "        ystart = sliding_window['ystart'][idx]\n",
    "        ystop = sliding_window['ystop'][idx]\n",
    "        cells_per_step = sliding_window['cells_per_step'][idx]\n",
    "        out_img = find_cars(image, ystart, ystop, cells_per_step, scale, svc, X_scaler, color_space, orient, \n",
    "                            pix_per_cell, cell_per_block, spatial_feat, spatial_size, hist_feat, hist_bins)\n",
    "    \n",
    "    #plt.imshow(out_img)\n",
    "    #plt.show()\n",
    "    # Add heat to each box in box list\n",
    "    heat_sframe = add_heat(heat_sframe, buffer.hot_windows)\n",
    "    # Apply threshold to help remove false positives\n",
    "    heat_sframe = apply_threshold(heat_sframe, threshold)\n",
    "    # Add single frame heat to historic\n",
    "    buffer.update_heat_historic(heat_sframe)\n",
    "    # Smooth heatmap by using heat map of latest frames\n",
    "    smooth_heat = np.zeros_like(image[:,:,0]).astype(np.float)\n",
    "    #Combine latest heatmap with current frame heatmap\n",
    "    for h in buffer.heat_mframe:\n",
    "        smooth_heat += h\n",
    "    #Normalize heatmap\n",
    "    smooth_heat = smooth_heat/len(buffer.heat_mframe)\n",
    "    heatmap = np.clip(smooth_heat, 0, 255)\n",
    "    #plt.imshow(heatmap, cmap='hot')\n",
    "    #plt.title('Heat Map')\n",
    "    #plt.show()\n",
    "    \n",
    "    # Find final boxes from heatmap using label function\n",
    "    labels = label(heatmap)\n",
    "    new = draw_labeled_bboxes(np.copy(image), labels)\n",
    "    #plt.imshow(new)\n",
    "    #plt.axis('off')\n",
    "    #plt.show()\n",
    "    return new"
   ]
  },
  {
   "cell_type": "markdown",
   "metadata": {},
   "source": [
    "## RUN PIPELINE ON VIDEO"
   ]
  },
  {
   "cell_type": "code",
   "execution_count": 8,
   "metadata": {
    "collapsed": false,
    "scrolled": true
   },
   "outputs": [
    {
     "name": "stdout",
     "output_type": "stream",
     "text": [
      "[MoviePy] >>>> Building video project_solution.mp4\n",
      "[MoviePy] Writing video project_solution.mp4\n"
     ]
    },
    {
     "name": "stderr",
     "output_type": "stream",
     "text": [
      "100%|█████████▉| 1260/1261 [14:31<00:00,  1.39it/s]\n"
     ]
    },
    {
     "name": "stdout",
     "output_type": "stream",
     "text": [
      "[MoviePy] Done.\n",
      "[MoviePy] >>>> Video ready: project_solution.mp4 \n",
      "\n",
      "CPU times: user 24min 44s, sys: 3min 7s, total: 27min 52s\n",
      "Wall time: 14min 32s\n"
     ]
    }
   ],
   "source": [
    "video_output = 'project_solution.mp4' # name of the video file generated by the vehicle detector\n",
    "clip1 = VideoFileClip(\"project_video.mp4\") #original video file\n",
    "#sub = clip1.subclip(t_start=40, t_end=50)\n",
    "white_clip = clip1.fl_image(pipeline) #NOTE: this function expects color images!!\n",
    "%time white_clip.write_videofile(video_output, audio=False)"
   ]
  },
  {
   "cell_type": "code",
   "execution_count": null,
   "metadata": {
    "collapsed": true
   },
   "outputs": [],
   "source": []
  }
 ],
 "metadata": {
  "kernelspec": {
   "display_name": "Python 3",
   "language": "python",
   "name": "python3"
  },
  "language_info": {
   "codemirror_mode": {
    "name": "ipython",
    "version": 3
   },
   "file_extension": ".py",
   "mimetype": "text/x-python",
   "name": "python",
   "nbconvert_exporter": "python",
   "pygments_lexer": "ipython3",
   "version": "3.5.2"
  }
 },
 "nbformat": 4,
 "nbformat_minor": 2
}
